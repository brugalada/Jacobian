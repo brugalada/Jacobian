{
 "cells": [
  {
   "cell_type": "markdown",
   "metadata": {},
   "source": [
    "# Coordinate transformations and Error Propagation\n",
    "\n",
    "The idea is to explore different options to propagate errors from observables ($\\alpha$, $\\delta$, $\\varpi$, $\\mu_{\\alpha*}$, $\\mu_\\delta$ and $V_r$) to Cartesian Heliocentric Velocity. In between, we shall see also transformations to intermediate coordinate systems (basically Galactic spherical coordinates).\n",
    "\n",
    "We shall see three ways:\n",
    "- Astropy\n",
    "- PyGaia\n",
    "- GalPy _(soon)_\n",
    "- Python Code  \n",
    "\n",
    "__(¡¡WATCH OUT!! Parallax error -> the Jacobian is asuming that distance = 1/plx)__\n",
    "\n",
    "For each one, we will average a thousand executions using _timeit_ package and obtain an estimated time cost."
   ]
  },
  {
   "cell_type": "code",
   "execution_count": 1,
   "metadata": {},
   "outputs": [],
   "source": [
    "import timeit\n",
    "import numpy as np"
   ]
  },
  {
   "cell_type": "code",
   "execution_count": 26,
   "metadata": {},
   "outputs": [
    {
     "data": {
      "text/plain": [
       "' Correct values based on NED calculator (ned.ipac.caltech.edu) for coordinates and PyGaia for velocities\\nl=0 degrees\\nb=0 degrees\\nd=250 pc (1/plx)\\nu=0\\nv=\\nw=\\n '"
      ]
     },
     "execution_count": 26,
     "metadata": {},
     "output_type": "execute_result"
    }
   ],
   "source": [
    "\"\"\" Test star coordinates & errors \"\"\"\n",
    "    #J2000\n",
    "ra=266.40506655 #right ascention in degrees\n",
    "dec=-28.93616241 #declination in degrees\n",
    "plx=4 #parallax in mas\n",
    "pmra=2 #proper motion in alpha* in mas/yr\n",
    "pmdec=3 #proper motion in delta in mas/yr\n",
    "vr=0 #radial velocity in km/s\n",
    "\n",
    "e_ra=0.1 #error in RA in mas\n",
    "e_dec=0.1 #error in DEC in mas\n",
    "e_plx=0.3 #error in plx in mas\n",
    "e_pmra=0.7 #error in PMRA in mas/yr\n",
    "e_pmdec=0.7 #error in PMDEC in mas/yr\n",
    "e_vr=0 #error in Vr in km/s\n",
    "\n",
    "\n",
    "\"\"\" Correct values based on NED calculator (ned.ipac.caltech.edu)\n",
    "l=0 degrees\n",
    "b=0 degrees\n",
    "d=250 pc (1/plx)\n",
    " \"\"\""
   ]
  },
  {
   "cell_type": "markdown",
   "metadata": {},
   "source": [
    "## 1) Astropy\n"
   ]
  },
  {
   "cell_type": "code",
   "execution_count": 50,
   "metadata": {},
   "outputs": [],
   "source": [
    "from astropy import units as u\n",
    "from astropy.coordinates import SkyCoord,Galactocentric\n",
    "from astropy.coordinates import HeliocentricTrueEcliptic,Galactic,LSR,HCRS"
   ]
  },
  {
   "cell_type": "code",
   "execution_count": 46,
   "metadata": {},
   "outputs": [],
   "source": [
    "star=SkyCoord(ra=ra*u.degree, dec=dec*u.degree,\n",
    "                distance=(plx*u.mas).to(u.pc, u.parallax()),\n",
    "                pm_ra_cosdec=pmra*u.mas/u.yr,\n",
    "                pm_dec=pmdec*u.mas/u.yr,\n",
    "                radial_velocity=vr*u.km/u.s)"
   ]
  },
  {
   "cell_type": "code",
   "execution_count": 47,
   "metadata": {},
   "outputs": [
    {
     "data": {
      "text/plain": [
       "<SkyCoord (ICRS): (ra, dec, distance) in (deg, deg, pc)\n",
       "    (266.40506655, -28.93616241, 250.)\n",
       " (pm_ra_cosdec, pm_dec, radial_velocity) in (mas / yr, mas / yr, km / s)\n",
       "    (2., 3., 0.)>"
      ]
     },
     "execution_count": 47,
     "metadata": {},
     "output_type": "execute_result"
    }
   ],
   "source": [
    "star"
   ]
  },
  {
   "cell_type": "code",
   "execution_count": 58,
   "metadata": {},
   "outputs": [],
   "source": [
    "\"\"\" Part I: change of coordinates \"\"\"\n",
    "#A: ICRS to Galactic\n",
    "star_GAL=star.transform_to(Galactic)\n",
    "tAstro=timeit.timeit(stmt='star.transform_to(Galactic)',globals=globals(),number=1000)/1000"
   ]
  },
  {
   "cell_type": "code",
   "execution_count": 60,
   "metadata": {},
   "outputs": [
    {
     "name": "stdout",
     "output_type": "stream",
     "text": [
      "Astropy\n",
      "\tStar at (266.40506655 deg:-28.93616241 deg) in ICRS ->(4.879020186417789e-05 deg:-5.046269002433875e-05 deg) in Gal.Coord.\n",
      "\n",
      "Time: 0.10792035559428405 seconds\n"
     ]
    }
   ],
   "source": [
    "print('Astropy\\n\\tStar at ({} deg:{} deg) in ICRS ->\\\n",
    "({}:{}) in Gal.Coord.\\n\\nTime: {} seconds'.format(ra,de,star_GAL.l,star_GAL.b,tAstro))"
   ]
  },
  {
   "cell_type": "code",
   "execution_count": 61,
   "metadata": {},
   "outputs": [],
   "source": [
    "#B: ICRS to Galactocentric (http://docs.astropy.org/en/stable/generated/examples/coordinates/plot_galactocentric-frame.html)\n",
    "star_cart = star.transform_to(Galactocentric)\n",
    "tAstro=timeit.timeit(stmt='star.transform_to(Galactocentric)',globals=globals(),number=1000)/1000"
   ]
  },
  {
   "cell_type": "code",
   "execution_count": 62,
   "metadata": {},
   "outputs": [
    {
     "name": "stdout",
     "output_type": "stream",
     "text": [
      "-8049.957406537863 pc -1.9663881033693542e-05 pc 26.18688463399134 pc\n",
      "11.09944533596824 km / s 236.50959376672404 km / s 7.0793609528452714 km / s\n",
      "Time: 0.07135713972160784\n"
     ]
    }
   ],
   "source": [
    "print(star_cart.x,star_cart.y,star_cart.z)\n",
    "print(star_cart.v_x,star_cart.v_y,star_cart.v_z)\n",
    "print('Time: {}'.format(tAstro))"
   ]
  },
  {
   "cell_type": "code",
   "execution_count": null,
   "metadata": {},
   "outputs": [],
   "source": [
    "\"\"\" Part II: error propagation \"\"\"\n",
    "#As far as I know, not available -in a suitable way- in version 2.02 "
   ]
  },
  {
   "cell_type": "code",
   "execution_count": null,
   "metadata": {
    "collapsed": true
   },
   "outputs": [],
   "source": []
  },
  {
   "cell_type": "markdown",
   "metadata": {},
   "source": [
    "## 2) PyGaia\n"
   ]
  },
  {
   "cell_type": "code",
   "execution_count": 3,
   "metadata": {},
   "outputs": [],
   "source": [
    "import pygaia.astrometry.vectorastrometry as vecast\n",
    "from pygaia.astrometry.coordinates import CoordinateTransformation\n",
    "from pygaia.astrometry.coordinates import Transformations"
   ]
  },
  {
   "cell_type": "code",
   "execution_count": 15,
   "metadata": {},
   "outputs": [],
   "source": [
    "\"\"\" Part I: change of coordinates \"\"\"\n",
    "\n",
    "#A: ICRS to GAL\n",
    "    #define the transformation\n",
    "ICRS2GAL=CoordinateTransformation(Transformations.ICRS2GAL)\n",
    "\n",
    "    #use the methods to transform: first the position\n",
    "l,b=ICRS2GAL.transformSkyCoordinates(np.deg2rad(ra),np.deg2rad(dec))\n",
    "tGaiaCoord=timeit.timeit(stmt='ICRS2GAL.transformSkyCoordinates(np.deg2rad(ra),np.deg2rad(dec))',\n",
    "                    globals=globals(),number=1000)/1000\n",
    "\n",
    "    #then the proper motions\n",
    "mul,mub=ICRS2GAL.transformProperMotions(np.deg2rad(ra),np.deg2rad(dec),pmra,pmdec)\n",
    "tGaiaPM=timeit.timeit(stmt='ICRS2GAL.transformProperMotions(np.deg2rad(ra),np.deg2rad(dec),pmra,pmdec)',\n",
    "                    globals=globals(),number=1000)/1000"
   ]
  },
  {
   "cell_type": "code",
   "execution_count": 17,
   "metadata": {},
   "outputs": [
    {
     "name": "stdout",
     "output_type": "stream",
     "text": [
      "PyGaia\n",
      "\tStar at (266.40506655 deg:-28.93616241 deg) in ICRS -> (4.257483637742752e-05 deg:-4.7577247564556497e-05 deg) in Gal.Coord.\n",
      "\n",
      "Time: 4.148723054834136e-05 seconds\n"
     ]
    }
   ],
   "source": [
    "print('PyGaia\\n\\tStar at ({} deg:{} deg) in ICRS -> ({} deg:{} deg) in Gal.Coord.\\n\\nTime: {} seconds'.format(\n",
    "    ra,dec,np.rad2deg(l),np.rad2deg(b),tGaiaCoord))"
   ]
  },
  {
   "cell_type": "code",
   "execution_count": 18,
   "metadata": {},
   "outputs": [
    {
     "name": "stdout",
     "output_type": "stream",
     "text": [
      "PyGaia\n",
      "\tStar at (2 mas/yr:3 mas/yr) in ICRS -> (3.6026749209392523 mas/yr:-0.1439910206761177 mas/yr) in Gal.Coord.\n",
      "\n",
      "Time: 0.00011272465155843747 seconds\n"
     ]
    }
   ],
   "source": [
    "print('PyGaia\\n\\tStar at ({} mas/yr:{} mas/yr) in ICRS -> ({} mas/yr:{} mas/yr) in Gal.Coord.\\n\\nTime: {} seconds'.format(\n",
    "    pmra,pmdec,mul,mub,tGaiaPM))"
   ]
  },
  {
   "cell_type": "code",
   "execution_count": 20,
   "metadata": {},
   "outputs": [],
   "source": [
    "#B: GAL to Helio-cartesian\n",
    "    #to change to cartesian, we use the module 'vecast'\n",
    "x,y,z,u,v,w=vecast.astrometryToPhaseSpace(l,b,plx,mul,mub,vr)\n",
    "tGaia=timeit.timeit(stmt='vecast.astrometryToPhaseSpace(l,b,plx,mul,mub,vr)',\n",
    "                    globals=globals(),number=1000)/1000"
   ]
  },
  {
   "cell_type": "code",
   "execution_count": 21,
   "metadata": {},
   "outputs": [
    {
     "name": "stdout",
     "output_type": "stream",
     "text": [
      "PyGaia\n",
      "\tStar at (4.257483637742752e-05 deg:-4.7577247564556497e-05 deg:4 mas) in GAL -> (249.9999999998448 pc:0.00018576776832091022 pc:-0.0002075949047594672 pc) in Heliocentric.Coord.\n",
      "\n",
      "Time:4.8843137037806626e-05 seconds\n"
     ]
    }
   ],
   "source": [
    "print('PyGaia\\n\\tStar at ({} deg:{} deg:{} mas) in GAL -> ({} pc:{} pc:{} pc) in Heliocentric.Coord.\\n\\nTime:\\\n",
    "{} seconds'.format(\n",
    "    np.rad2deg(l),np.rad2deg(b),plx,x,y,z,tGaia))"
   ]
  },
  {
   "cell_type": "code",
   "execution_count": 27,
   "metadata": {},
   "outputs": [],
   "source": [
    "#A+B:ICRS to Heliocentric Cartesian\n",
    "    #full transformation in one function\n",
    "def pygaiachange(ra,dec,plx,pmra,pmdec,vr):\n",
    "    \"\"\" From observables in ICRS (angles in degrees, plx in mas, proper motion in mas/yr, los velocity in km/s)\n",
    "    returns X,Y,Z (in pc) and U,V,W (in km/s).\"\"\"\n",
    "    import pygaia.astrometry.vectorastrometry as vecast\n",
    "    from pygaia.astrometry.coordinates import CoordinateTransformation\n",
    "    from pygaia.astrometry.coordinates import Transformations   \n",
    "    ICRS2GAL=CoordinateTransformation(Transformations.ICRS2GAL)\n",
    "    #GAL2ICRS=CoordinateTransformation(Transformations.GAL2ICRS)\n",
    "\n",
    "    l,b=ICRS2GAL.transformSkyCoordinates(np.deg2rad(ra),np.deg2rad(dec))\n",
    "    mul,mub=ICRS2GAL.transformProperMotions(np.deg2rad(ra),np.deg2rad(dec),pmra,pmdec)\n",
    "    \n",
    "    return vecast.astrometryToPhaseSpace(l,b,plx,mul,mub,vr)\n",
    "\n",
    "x,y,z,u,v,w=pygaiachange(ra,dec,plx,pmra,pmdec,vr)\n",
    "tGaia=timeit.timeit(stmt='pygaiachange(ra,dec,plx,pmra,pmdec,vr)',\n",
    "                    globals=globals(),number=1000)/1000"
   ]
  },
  {
   "cell_type": "code",
   "execution_count": 24,
   "metadata": {},
   "outputs": [
    {
     "name": "stdout",
     "output_type": "stream",
     "text": [
      "PyGaia\n",
      "\tStar at (266.40506655 deg:-28.93616241 deg:4 mas) in ICRS -> (249.9999999998448 pc:0.00018576776832091022 pc:-0.0002075949047594672 pc) in Heliocentric.Coord.\n",
      "\n",
      "Time:0.00020382055854838653 seconds\n"
     ]
    }
   ],
   "source": [
    "print('PyGaia\\n\\tStar at ({} deg:{} deg:{} mas) in ICRS -> ({} pc:{} pc:{} pc) in Heliocentric.Coord.\\n\\nTime:\\\n",
    "{} seconds'.format(\n",
    "    ra,dec,plx,x,y,z,tGaia))"
   ]
  },
  {
   "cell_type": "code",
   "execution_count": 25,
   "metadata": {},
   "outputs": [
    {
     "name": "stdout",
     "output_type": "stream",
     "text": [
      "PyGaia\n",
      "\tStar at (2 mas/yr:3 mas/yr:0 km/s) in ICRS -> (-3.3143126398119365e-06 kms/s:4.269593513104933 km/s:-0.1706462951322301 km/s) in Heliocentric.Coord.\n",
      "\n",
      "Time:0.00020382055854838653 seconds\n"
     ]
    }
   ],
   "source": [
    "print('PyGaia\\n\\tStar at ({} mas/yr:{} mas/yr:{} km/s) in ICRS -> ({} kms/s:{} km/s:{} km/s) in Heliocentric.Coord.\\n\\nTime:\\\n",
    "{} seconds'.format(\n",
    "    pmra,pmdec,vr,u,v,w,tGaia))"
   ]
  },
  {
   "cell_type": "code",
   "execution_count": null,
   "metadata": {},
   "outputs": [],
   "source": [
    "\"\"\" Part II: error propagation (only rotations)\"\"\"\n",
    "\n",
    "\"\"\"\n",
    "Version 1.2 (December 2016)\n",
    "++++++++++++++++++++\n",
    "- Add method to CoordinateTransformation for the transformation of the full (5x5) covariance matrix of\n",
    "  the astrometric parameters.\n",
    "\n",
    "- Add keyword to astrometric errors prediction functions that allows to specify an extended mission\n",
    "  lifetime.\n",
    "  \n",
    "  \n",
    "+  def transformCovarianceMatrix(self, phi, theta, covmat):\n",
    "+      \n",
    "+      Transform the astrometric covariance matrix to its representation in the new coordinate system.\n",
    "+\n",
    "+      Parameters\n",
    "+      ----------\n",
    "+\n",
    "+      phi       - The longitude-like angle of the position of the source (radians).\n",
    "+      theta     - The latitude-like angle of the position of the source (radians).\n",
    "+      covmat    - Covariance matrix (5x5) of the astrometric parameters.\n",
    "+\n",
    "+      Returns\n",
    "+      -------\n",
    "+\n",
    "+      covmat_rot - Covariance matrix in its representation in the new coordinate system.\n",
    "+      \n",
    "+\n",
    "+      c, s = self._getJacobian(phi,theta)\n",
    "+      jacobian = identity(5)\n",
    "+      jacobian[0][0]=c\n",
    "+      jacobian[1][1]=c\n",
    "+      jacobian[3][3]=c\n",
    "+      jacobian[4][4]=c\n",
    "+      jacobian[0][1]=s\n",
    "+      jacobian[1][0]=-s\n",
    "+      jacobian[3][4]=s\n",
    "+      jacobian[4][3]=-s\n",
    "+\n",
    "+      return dot( dot(jacobian, covmat), jacobian.transpose() )\n",
    "+\n",
    "   def _getJacobian(self, phi, theta):\n",
    "     \n",
    "     Calculates the Jacobian for the transformation of the position errors and proper motion errors\n",
    "     between coordinate systems. This Jacobian is also the rotation matrix for the transformation of\n",
    "     proper motions. See section 1.5.3 of the Hipparcos Explanatory Volume 1 (equation 1.5.20).\n",
    " \n",
    "     Parameters\n",
    "     ----------\n",
    " \n",
    "     phi       - The longitude-like angle of the position of the source (radians).\n",
    "     theta     - The latitude-like angle of the position of the source (radians).\n",
    " \n",
    "     Returns\n",
    "     -------\n",
    " \n",
    "     jacobian - The Jacobian matrix corresponding to (phi, theta) and the currently desired coordinate\n",
    "                system transformation.\n",
    "     \n",
    " \n",
    "     p, q, r = normalTriad(phi, theta)\n",
    " \n",
    "     # zRot = z-axis of new coordinate system expressed in terms of old system\n",
    "     zRot = self.rotationMatrix[2,:]\n",
    "     zRotAll = zRot\n",
    "     if (p.ndim == 2):\n",
    "       for i in range(p.shape[1]-1):\n",
    "         zRotAll = vstack((zRotAll,zRot))\n",
    "     pRot = cross(zRotAll, transpose(r))\n",
    "     if (p.ndim == 2):\n",
    "       normPRot = sqrt(diag(dot(pRot,transpose(pRot))))\n",
    "       for i in range(pRot.shape[0]):\n",
    "         pRot[i,:] = pRot[i,:]/normPRot[i]\n",
    "     else:\n",
    "       pRot = pRot/norm(pRot)\n",
    " \n",
    "     if (p.ndim == 2):\n",
    "       return diag(dot(pRot,p)), diag(dot(pRot,q))\n",
    "     else:\n",
    "return dot(pRot,p), dot(pRot,q)\n",
    "\"\"\"\n",
    "\n",
    "#Since the transformation is nested inside the 'CoordinateTransformation' method, it is only available for\n",
    "#changes of coordinates defined in 'Transfromations' object. That is: ICRS<->GAL<->Ecliptic"
   ]
  },
  {
   "cell_type": "code",
   "execution_count": 40,
   "metadata": {
    "scrolled": true
   },
   "outputs": [
    {
     "name": "stdout",
     "output_type": "stream",
     "text": [
      "Help on method transformCovarianceMatrix in module pygaia.astrometry.coordinates:\n",
      "\n",
      "transformCovarianceMatrix(phi, theta, covmat) method of pygaia.astrometry.coordinates.CoordinateTransformation instance\n",
      "    Transform the astrometric covariance matrix to its representation in the new coordinate system.\n",
      "    \n",
      "    Parameters\n",
      "    ----------\n",
      "    \n",
      "    phi       - The longitude-like angle of the position of the source (radians).\n",
      "    theta     - The latitude-like angle of the position of the source (radians).\n",
      "    covmat    - Covariance matrix (5x5) of the astrometric parameters.\n",
      "    \n",
      "    Returns\n",
      "    -------\n",
      "    \n",
      "    covmat_rot - Covariance matrix in its representation in the new coordinate system.\n",
      "\n"
     ]
    }
   ],
   "source": [
    "ICRS2GAL=CoordinateTransformation(Transformations.ICRS2GAL)\n",
    "help(ICRS2GAL.transformCovarianceMatrix)"
   ]
  },
  {
   "cell_type": "code",
   "execution_count": 37,
   "metadata": {},
   "outputs": [],
   "source": [
    "GALcovMatrix=ICRS2GAL.transformCovarianceMatrix(ra,dec,np.diag([e_ra,e_dec,e_plx,e_pmra,e_pmdec]))"
   ]
  },
  {
   "cell_type": "code",
   "execution_count": 38,
   "metadata": {},
   "outputs": [
    {
     "name": "stdout",
     "output_type": "stream",
     "text": [
      "[[ 0.1  0.   0.   0.   0. ]\n",
      " [ 0.   0.1  0.   0.   0. ]\n",
      " [ 0.   0.   0.3  0.   0. ]\n",
      " [ 0.   0.   0.   0.7  0. ]\n",
      " [ 0.   0.   0.   0.   0.7]]\n"
     ]
    }
   ],
   "source": [
    "print(GALcovMatrix)"
   ]
  },
  {
   "cell_type": "code",
   "execution_count": null,
   "metadata": {
    "collapsed": true
   },
   "outputs": [],
   "source": []
  },
  {
   "cell_type": "markdown",
   "metadata": {},
   "source": [
    "## 3) Python Code"
   ]
  },
  {
   "cell_type": "code",
   "execution_count": 65,
   "metadata": {},
   "outputs": [],
   "source": [
    "from Jacobian import *"
   ]
  },
  {
   "cell_type": "code",
   "execution_count": 72,
   "metadata": {},
   "outputs": [],
   "source": [
    "\"\"\" Part I: change of coordinates \"\"\"\n",
    "#A: ICRS to Galactic\n",
    "    #position\n",
    "l,b=radec2lb(np.deg2rad(ra),np.deg2rad(de))\n",
    "tPythonCoord=timeit.timeit(stmt='radec2lb(ra,de)',\n",
    "                    globals=globals(),number=1000)/1000\n",
    "    #proper motions\n",
    "mul,mub=pmradec2lb(np.deg2rad(ra),np.deg2rad(de),l,b,pmra,pmdec)\n",
    "tPythonPM=timeit.timeit(stmt='pmradec2lb(np.deg2rad(ra),np.deg2rad(de),l,b,pmra,pmdec)',\n",
    "                    globals=globals(),number=1000)/1000"
   ]
  },
  {
   "cell_type": "code",
   "execution_count": 73,
   "metadata": {},
   "outputs": [
    {
     "name": "stdout",
     "output_type": "stream",
     "text": [
      "Python Code\n",
      "\tStar at (266.40506655 deg:-28.93616241 deg) in ICRS -> (0.004927143400317665 deg:-0.00031906842240168637 deg) in Gal.Coord.\n",
      "\n",
      "Time: 3.5893787766781315e-05 seconds\n",
      "Python\n",
      "\tStar at (2 mas/yr:3 mas/yr) in ICRS -> (3.602669678523336 kms/s:-0.143998792137229 km/s) in Gal.Coord.\n",
      "\n",
      "Time:2.033684554271531e-05 seconds\n"
     ]
    }
   ],
   "source": [
    "print('Python Code\\n\\tStar at ({} deg:{} deg) in ICRS -> ({} deg:{} deg) in Gal.Coord.\\n\\nTime: {} seconds'.format(\n",
    "    ra,de,np.rad2deg(l),np.rad2deg(b),tPythonCoord))\n",
    "\n",
    "print('Python\\n\\tStar at ({} mas/yr:{} mas/yr) in ICRS -> ({} kms/s:{} km/s) in Gal.Coord.\\n\\nTime:\\\n",
    "{} seconds'.format(\n",
    "    pmra,pmdec,mul,mub,tPythonPM))"
   ]
  },
  {
   "cell_type": "code",
   "execution_count": null,
   "metadata": {},
   "outputs": [],
   "source": []
  },
  {
   "cell_type": "code",
   "execution_count": 80,
   "metadata": {},
   "outputs": [],
   "source": [
    "\"\"\" Part II: error propagation \"\"\"\n",
    "#From ra,dec,plx,pmra,pmdec,vr to l,b,plx,U,V,W\n",
    "J6=Jacob([ra,de,plx,pmra,pmdec,0])\n",
    "J4=Jacob4([ra,de,plx,pmra,pmdec,0])"
   ]
  },
  {
   "cell_type": "code",
   "execution_count": 81,
   "metadata": {},
   "outputs": [
    {
     "name": "stdout",
     "output_type": "stream",
     "text": [
      "[[ 2.21069641e-06  4.13805520e-06  0.00000000e+00  0.00000000e+00\n",
      "   0.00000000e+00  0.00000000e+00]\n",
      " [-3.62145761e-06  2.52605022e-06  0.00000000e+00  0.00000000e+00\n",
      "   0.00000000e+00  0.00000000e+00]\n",
      " [ 0.00000000e+00  0.00000000e+00  1.00000000e+00  0.00000000e+00\n",
      "   0.00000000e+00  0.00000000e+00]\n",
      " [-1.00568044e-05 -1.72367036e-05  9.20282436e-05 -5.87330660e-05\n",
      "  -8.35491151e-05  9.99999996e-01]\n",
      " [-4.01173914e-07 -1.47789326e-09 -1.06739683e+00  6.17478391e-01\n",
      "   1.01154546e+00  8.59948749e-05]\n",
      " [-1.00151765e-05  2.05442570e-10  4.26638766e-02 -1.01154546e+00\n",
      "   6.17478394e-01 -5.56879451e-06]]\n",
      "[[ 1.00000000e+00  0.00000000e+00  0.00000000e+00  0.00000000e+00]\n",
      " [ 9.20282436e-05 -5.87330660e-05 -8.35491151e-05  9.99999996e-01]\n",
      " [-1.06739683e+00  6.17478391e-01  1.01154546e+00  8.59948749e-05]\n",
      " [ 4.26638766e-02 -1.01154546e+00  6.17478394e-01 -5.56879451e-06]]\n"
     ]
    }
   ],
   "source": [
    "print(J6)\n",
    "print(J4)"
   ]
  },
  {
   "cell_type": "code",
   "execution_count": 82,
   "metadata": {},
   "outputs": [],
   "source": [
    "tJ6=timeit.timeit(stmt='Jacob([ra,de,plx,pmra,pmdec,0])',\n",
    "                    globals=globals(),number=1000)/1000\n",
    "tJ4=timeit.timeit(stmt='Jacob4([ra,de,plx,pmra,pmdec,0])',\n",
    "                    globals=globals(),number=1000)/1000"
   ]
  },
  {
   "cell_type": "code",
   "execution_count": 83,
   "metadata": {},
   "outputs": [
    {
     "name": "stdout",
     "output_type": "stream",
     "text": [
      "Time [s]:  0.00027954947226589867 / 9.28001142156063e-05\n"
     ]
    }
   ],
   "source": [
    "print('Time [s]: ',tJ6,'/',tJ4)"
   ]
  },
  {
   "cell_type": "code",
   "execution_count": 88,
   "metadata": {},
   "outputs": [
    {
     "name": "stdout",
     "output_type": "stream",
     "text": [
      "Time to process Error Propagation:  9.28001142156063e-05\n",
      "\n",
      "Original Covariance Matrix: \n",
      "[[0.09 0.   0.   0.  ]\n",
      " [0.   0.49 0.   0.  ]\n",
      " [0.   0.   0.49 0.  ]\n",
      " [0.   0.   0.   0.  ]]\n",
      "\n",
      "Propagated Covariance Matrix: \n",
      "[[ 0.09  0.   -0.1   0.  ]\n",
      " [ 0.    0.   -0.    0.  ]\n",
      " [-0.1  -0.    0.79 -0.  ]\n",
      " [ 0.    0.   -0.    0.69]]\n"
     ]
    }
   ],
   "source": [
    "print('Time to process Error Propagation: ',tJ4)\n",
    "print('\\nOriginal Covariance Matrix: ')\n",
    "cov=np.diag([e_plx,e_pmra,e_pmdec,e_vr])**2\n",
    "print(cov)\n",
    "print('\\nPropagated Covariance Matrix: ')\n",
    "new_cov=J4@cov@J4.T\n",
    "print(np.round(new_cov,2))"
   ]
  },
  {
   "cell_type": "code",
   "execution_count": null,
   "metadata": {},
   "outputs": [],
   "source": []
  }
 ],
 "metadata": {
  "kernelspec": {
   "display_name": "Python 3",
   "language": "python",
   "name": "python3"
  },
  "language_info": {
   "codemirror_mode": {
    "name": "ipython",
    "version": 3
   },
   "file_extension": ".py",
   "mimetype": "text/x-python",
   "name": "python",
   "nbconvert_exporter": "python",
   "pygments_lexer": "ipython3",
   "version": "3.6.5"
  }
 },
 "nbformat": 4,
 "nbformat_minor": 2
}
