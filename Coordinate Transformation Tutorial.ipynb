{
 "cells": [
  {
   "cell_type": "markdown",
   "metadata": {},
   "source": [
    "# Coordinate transformations and Error Propagation\n",
    "\n",
    "The idea is to explore different options to propagate errors from observables ($\\alpha$, $\\delta$, $\\varpi$, $\\mu_{\\alpha*}$, $\\mu_\\delta$ and $V_r$) to Cartesian Heliocentric Velocity. In between, we shall see also transformations to intermediate coordinate systems (basically Galactic spherical coordinates).\n",
    "\n",
    "We shall see three ways:\n",
    "- Astropy\n",
    "- PyGaia\n",
    "- GalPy _(soon)_\n",
    "- Python Code  \n",
    "\n",
    "__(¡¡WATCH OUT!! Parallax error -> the Jacobian is asuming that distance = 1/plx)__\n",
    "\n",
    "For each one, we will average a thousand executions using _timeit_ package and obtain an estimated time cost."
   ]
  },
  {
   "cell_type": "code",
   "execution_count": 1,
   "metadata": {},
   "outputs": [],
   "source": [
    "import timeit\n",
    "import numpy as np"
   ]
  },
  {
   "cell_type": "code",
   "execution_count": 2,
   "metadata": {},
   "outputs": [
    {
     "data": {
      "text/plain": [
       "' Correct values based on NED calculator (ned.ipac.caltech.edu)\\nl=0 degrees\\nb=0 degrees\\nd=250 pc (1/plx)\\n '"
      ]
     },
     "execution_count": 2,
     "metadata": {},
     "output_type": "execute_result"
    }
   ],
   "source": [
    "\"\"\" Test star coordinates & errors \"\"\"\n",
    "    #J2000\n",
    "ra=266.40506655 #right ascention in degrees\n",
    "dec=-28.93616241 #declination in degrees\n",
    "plx=4 #parallax in mas\n",
    "pmra=2 #proper motion in alpha* in mas/yr\n",
    "pmdec=3 #proper motion in delta in mas/yr\n",
    "vr=0 #radial velocity in km/s\n",
    "\n",
    "e_ra=0.1 #error in RA in mas\n",
    "e_dec=0.1 #error in DEC in mas\n",
    "e_plx=0.3 #error in plx in mas\n",
    "e_pmra=0.7 #error in PMRA in mas/yr\n",
    "e_pmdec=0.7 #error in PMDEC in mas/yr\n",
    "e_vr=0 #error in Vr in km/s\n",
    "\n",
    "c_plx_pmra = 0.5 #correlation parallax pmra\n",
    "c_plx_pmdec= 0.5 #correlation parallax pmdec\n",
    "c_pmra_pmdec=0.5 #correlation pmra pmdec\n",
    "\n",
    "\n",
    "\"\"\" Correct values based on NED calculator (ned.ipac.caltech.edu)\n",
    "l=0 degrees\n",
    "b=0 degrees\n",
    "d=250 pc (1/plx)\n",
    " \"\"\""
   ]
  },
  {
   "cell_type": "markdown",
   "metadata": {},
   "source": [
    "## 1) Astropy\n"
   ]
  },
  {
   "cell_type": "code",
   "execution_count": 3,
   "metadata": {},
   "outputs": [],
   "source": [
    "from astropy import units as u\n",
    "from astropy.coordinates import SkyCoord,Galactocentric\n",
    "from astropy.coordinates import HeliocentricTrueEcliptic,Galactic,LSR,HCRS,ICRS"
   ]
  },
  {
   "cell_type": "code",
   "execution_count": 6,
   "metadata": {},
   "outputs": [
    {
     "data": {
      "text/plain": [
       "'3.2.3'"
      ]
     },
     "execution_count": 6,
     "metadata": {},
     "output_type": "execute_result"
    }
   ],
   "source": [
    "import astropy\n",
    "astropy.version.version"
   ]
  },
  {
   "cell_type": "code",
   "execution_count": 7,
   "metadata": {},
   "outputs": [],
   "source": [
    "star=SkyCoord(ra=ra*u.degree, dec=dec*u.degree,\n",
    "                distance=(plx*u.mas).to(u.pc, u.parallax()),\n",
    "                pm_ra_cosdec=pmra*u.mas/u.yr,\n",
    "                pm_dec=pmdec*u.mas/u.yr,\n",
    "                radial_velocity=vr*u.km/u.s)"
   ]
  },
  {
   "cell_type": "code",
   "execution_count": 8,
   "metadata": {},
   "outputs": [
    {
     "data": {
      "text/plain": [
       "<SkyCoord (ICRS): (ra, dec, distance) in (deg, deg, pc)\n",
       "    (266.40506655, -28.93616241, 250.)\n",
       " (pm_ra_cosdec, pm_dec, radial_velocity) in (mas / yr, mas / yr, km / s)\n",
       "    (2., 3., 0.)>"
      ]
     },
     "execution_count": 8,
     "metadata": {},
     "output_type": "execute_result"
    }
   ],
   "source": [
    "star"
   ]
  },
  {
   "cell_type": "code",
   "execution_count": 9,
   "metadata": {},
   "outputs": [],
   "source": [
    "\"\"\" Part I: change of coordinates \"\"\"\n",
    "#A: ICRS to Galactic\n",
    "star_GAL=star.transform_to(Galactic)\n",
    "tAstro=timeit.timeit(stmt='star.transform_to(Galactic)',globals=globals(),number=1000)/1000"
   ]
  },
  {
   "cell_type": "code",
   "execution_count": 10,
   "metadata": {},
   "outputs": [
    {
     "name": "stdout",
     "output_type": "stream",
     "text": [
      "Astropy\n",
      "\tStar at (266.40506655 deg:-28.93616241 deg) in ICRS ->(4.879020186417789e-05 deg:-5.046269002433875e-05 deg) in Gal.Coord.\n",
      "\n",
      "Time: 0.0074888002120424065 seconds\n"
     ]
    }
   ],
   "source": [
    "print('Astropy\\n\\tStar at ({} deg:{} deg) in ICRS ->\\\n",
    "({}:{}) in Gal.Coord.\\n\\nTime: {} seconds'.format(ra,dec,star_GAL.l,star_GAL.b,tAstro))"
   ]
  },
  {
   "cell_type": "code",
   "execution_count": 11,
   "metadata": {},
   "outputs": [],
   "source": [
    "#B: ICRS to Galactocentric (http://docs.astropy.org/en/stable/generated/examples/coordinates/plot_galactocentric-frame.html)\n",
    "star_cart = star.transform_to(Galactocentric)\n",
    "tAstro=timeit.timeit(stmt='star.transform_to(Galactocentric)',globals=globals(),number=1000)/1000"
   ]
  },
  {
   "cell_type": "code",
   "execution_count": 12,
   "metadata": {},
   "outputs": [
    {
     "name": "stdout",
     "output_type": "stream",
     "text": [
      "-8049.957406537863 pc -1.9663881033693542e-05 pc 26.186884633991347 pc\n",
      "11.09944533596824 km / s 236.50959376672404 km / s 7.0793609528452714 km / s\n",
      "Time: 0.007969647183897905\n"
     ]
    }
   ],
   "source": [
    "print(star_cart.x,star_cart.y,star_cart.z)\n",
    "print(star_cart.v_x,star_cart.v_y,star_cart.v_z)\n",
    "print('Time: {}'.format(tAstro))"
   ]
  },
  {
   "cell_type": "code",
   "execution_count": 13,
   "metadata": {},
   "outputs": [
    {
     "data": {
      "text/plain": [
       "' Part II: error propagation '"
      ]
     },
     "execution_count": 13,
     "metadata": {},
     "output_type": "execute_result"
    }
   ],
   "source": [
    "\"\"\" Part II: error propagation \"\"\"\n",
    "#As far as I know, not available -in a suitable way- in version 2.02 "
   ]
  },
  {
   "cell_type": "code",
   "execution_count": null,
   "metadata": {},
   "outputs": [],
   "source": []
  },
  {
   "cell_type": "markdown",
   "metadata": {},
   "source": [
    "## 2) PyGaia\n"
   ]
  },
  {
   "cell_type": "code",
   "execution_count": 4,
   "metadata": {},
   "outputs": [],
   "source": [
    "import pygaia.astrometry.vectorastrometry as vecast\n",
    "from pygaia.astrometry.coordinates import CoordinateTransformation\n",
    "from pygaia.astrometry.coordinates import Transformations"
   ]
  },
  {
   "cell_type": "code",
   "execution_count": 5,
   "metadata": {},
   "outputs": [],
   "source": [
    "\"\"\" Part I: change of coordinates \"\"\"\n",
    "\n",
    "#A: ICRS to GAL\n",
    "    #define the transformation\n",
    "ICRS2GAL=CoordinateTransformation(Transformations.ICRS2GAL)\n",
    "\n",
    "    #use the methods to transform: first the position\n",
    "l,b=ICRS2GAL.transformSkyCoordinates(np.deg2rad(ra),np.deg2rad(dec))\n",
    "tGaiaCoord=timeit.timeit(stmt='ICRS2GAL.transformSkyCoordinates(np.deg2rad(ra),np.deg2rad(dec))',\n",
    "                    globals=globals(),number=1000)/1000\n",
    "\n",
    "    #then the proper motions\n",
    "mul,mub=ICRS2GAL.transformProperMotions(np.deg2rad(ra),np.deg2rad(dec),pmra,pmdec)\n",
    "tGaiaPM=timeit.timeit(stmt='ICRS2GAL.transformProperMotions(np.deg2rad(ra),np.deg2rad(dec),pmra,pmdec)',\n",
    "                    globals=globals(),number=1000)/1000"
   ]
  },
  {
   "cell_type": "code",
   "execution_count": 16,
   "metadata": {},
   "outputs": [
    {
     "name": "stdout",
     "output_type": "stream",
     "text": [
      "PyGaia\n",
      "\tStar at (266.40506655 deg:-28.93616241 deg) in ICRS -> (4.257483637742752e-05 deg:-4.7577247564556497e-05 deg) in Gal.Coord.\n",
      "\n",
      "Time: 5.498246708884835e-05 seconds\n"
     ]
    }
   ],
   "source": [
    "print('PyGaia\\n\\tStar at ({} deg:{} deg) in ICRS -> ({} deg:{} deg) in Gal.Coord.\\n\\nTime: {} seconds'.format(\n",
    "    ra,dec,np.rad2deg(l),np.rad2deg(b),tGaiaCoord))"
   ]
  },
  {
   "cell_type": "code",
   "execution_count": 17,
   "metadata": {},
   "outputs": [
    {
     "name": "stdout",
     "output_type": "stream",
     "text": [
      "PyGaia\n",
      "\tStar at (2 mas/yr:3 mas/yr) in ICRS -> (3.6026749209392523 mas/yr:-0.1439910206761177 mas/yr) in Gal.Coord.\n",
      "\n",
      "Time: 7.710632099770009e-05 seconds\n"
     ]
    }
   ],
   "source": [
    "print('PyGaia\\n\\tStar at ({} mas/yr:{} mas/yr) in ICRS -> ({} mas/yr:{} mas/yr) in Gal.Coord.\\n\\nTime: {} seconds'.format(\n",
    "    pmra,pmdec,mul,mub,tGaiaPM))"
   ]
  },
  {
   "cell_type": "code",
   "execution_count": 21,
   "metadata": {},
   "outputs": [],
   "source": [
    "#B: GAL to Helio-cartesian\n",
    "    #to change to cartesian, we use the module 'vecast'\n",
    "x,y,z,U,V,W=vecast.astrometryToPhaseSpace(l,b,plx,mul,mub,vr)\n",
    "tGaia=timeit.timeit(stmt='vecast.astrometryToPhaseSpace(l,b,plx,mul,mub,vr)',\n",
    "                    globals=globals(),number=1000)/1000"
   ]
  },
  {
   "cell_type": "code",
   "execution_count": 22,
   "metadata": {},
   "outputs": [
    {
     "name": "stdout",
     "output_type": "stream",
     "text": [
      "PyGaia\n",
      "\tStar at (4.257483637742752e-05 deg:-4.7577247564556497e-05 deg:4 mas) in GAL -> (249.9999999998448 pc:0.00018576776832091022 pc:-0.0002075949047594672 pc) in Heliocentric.Coord.\n",
      "\n",
      "Time:6.042544199954136e-05 seconds\n"
     ]
    }
   ],
   "source": [
    "print('PyGaia\\n\\tStar at ({} deg:{} deg:{} mas) in GAL -> ({} pc:{} pc:{} pc) in Heliocentric.Coord.\\n\\nTime:\\\n",
    "{} seconds'.format(\n",
    "    np.rad2deg(l),np.rad2deg(b),plx,x,y,z,tGaia))"
   ]
  },
  {
   "cell_type": "code",
   "execution_count": 7,
   "metadata": {},
   "outputs": [],
   "source": [
    "#A+B:ICRS to Heliocentric Cartesian\n",
    "    #full transformation in one function\n",
    "def pygaiachange(ra,dec,plx,pmra,pmdec,vr):\n",
    "    \"\"\" From observables in ICRS (angles in degrees, plx in mas, proper motion in mas/yr, los velocity in km/s)\n",
    "    returns X,Y,Z (in pc) and U,V,W (in km/s).\"\"\"\n",
    "    import pygaia.astrometry.vectorastrometry as vecast\n",
    "    from pygaia.astrometry.coordinates import CoordinateTransformation\n",
    "    from pygaia.astrometry.coordinates import Transformations   \n",
    "    ICRS2GAL=CoordinateTransformation(Transformations.ICRS2GAL)\n",
    "    #GAL2ICRS=CoordinateTransformation(Transformations.GAL2ICRS)\n",
    "\n",
    "    l,b=ICRS2GAL.transformSkyCoordinates(np.deg2rad(ra),np.deg2rad(dec))\n",
    "    mul,mub=ICRS2GAL.transformProperMotions(np.deg2rad(ra),np.deg2rad(dec),pmra,pmdec)\n",
    "    \n",
    "    return vecast.astrometryToPhaseSpace(l,b,plx,mul,mub,vr)\n",
    "\n",
    "x,y,z,U,V,W=pygaiachange(ra,dec,plx,pmra,pmdec,vr)\n",
    "tGaia=timeit.timeit(stmt='pygaiachange(ra,dec,plx,pmra,pmdec,vr)',\n",
    "                    globals=globals(),number=1000)/1000"
   ]
  },
  {
   "cell_type": "code",
   "execution_count": 8,
   "metadata": {},
   "outputs": [
    {
     "name": "stdout",
     "output_type": "stream",
     "text": [
      "PyGaia\n",
      "\tStar at (266.40506655 deg:-28.93616241 deg:4 mas) in ICRS -> (249.9999999998448 pc:0.00018576776832091022 pc:-0.0002075949047594672 pc) in Heliocentric.Coord.\n",
      "\n",
      "Time:0.0001886565249878913 seconds\n"
     ]
    }
   ],
   "source": [
    "print('PyGaia\\n\\tStar at ({} deg:{} deg:{} mas) in ICRS -> ({} pc:{} pc:{} pc) in Heliocentric.Coord.\\n\\nTime:\\\n",
    "{} seconds'.format(\n",
    "    ra,dec,plx,x,y,z,tGaia))"
   ]
  },
  {
   "cell_type": "code",
   "execution_count": 25,
   "metadata": {},
   "outputs": [
    {
     "name": "stdout",
     "output_type": "stream",
     "text": [
      "PyGaia\n",
      "\tStar at (2 mas/yr:3 mas/yr:0 km/s) in ICRS -> (-3.3143126398119365e-06 kms/s:4.269593513104933 km/s:-0.1706462951322301 km/s) in Heliocentric.Coord.\n",
      "\n",
      "Time:0.00023921741099911743 seconds\n"
     ]
    }
   ],
   "source": [
    "print('PyGaia\\n\\tStar at ({} mas/yr:{} mas/yr:{} km/s) in ICRS -> ({} kms/s:{} km/s:{} km/s) in Heliocentric.Coord.\\n\\nTime:\\\n",
    "{} seconds'.format(\n",
    "    pmra,pmdec,vr,U,V,W,tGaia))"
   ]
  },
  {
   "cell_type": "code",
   "execution_count": null,
   "metadata": {},
   "outputs": [],
   "source": [
    "\"\"\" Part II: error propagation (only rotations)\"\"\"\n",
    "\n",
    "\"\"\"\n",
    "Version 1.2 (December 2016)\n",
    "++++++++++++++++++++\n",
    "- Add method to CoordinateTransformation for the transformation of the full (5x5) covariance matrix of\n",
    "  the astrometric parameters.\n",
    "\n",
    "- Add keyword to astrometric errors prediction functions that allows to specify an extended mission\n",
    "  lifetime.\n",
    "  \n",
    "  \n",
    "+  def transformCovarianceMatrix(self, phi, theta, covmat):\n",
    "+      \n",
    "+      Transform the astrometric covariance matrix to its representation in the new coordinate system.\n",
    "+\n",
    "+      Parameters\n",
    "+      ----------\n",
    "+\n",
    "+      phi       - The longitude-like angle of the position of the source (radians).\n",
    "+      theta     - The latitude-like angle of the position of the source (radians).\n",
    "+      covmat    - Covariance matrix (5x5) of the astrometric parameters.\n",
    "+\n",
    "+      Returns\n",
    "+      -------\n",
    "+\n",
    "+      covmat_rot - Covariance matrix in its representation in the new coordinate system.\n",
    "+      \n",
    "+\n",
    "+      c, s = self._getJacobian(phi,theta)\n",
    "+      jacobian = identity(5)\n",
    "+      jacobian[0][0]=c\n",
    "+      jacobian[1][1]=c\n",
    "+      jacobian[3][3]=c\n",
    "+      jacobian[4][4]=c\n",
    "+      jacobian[0][1]=s\n",
    "+      jacobian[1][0]=-s\n",
    "+      jacobian[3][4]=s\n",
    "+      jacobian[4][3]=-s\n",
    "+\n",
    "+      return dot( dot(jacobian, covmat), jacobian.transpose() )\n",
    "+\n",
    "   def _getJacobian(self, phi, theta):\n",
    "     \n",
    "     Calculates the Jacobian for the transformation of the position errors and proper motion errors\n",
    "     between coordinate systems. This Jacobian is also the rotation matrix for the transformation of\n",
    "     proper motions. See section 1.5.3 of the Hipparcos Explanatory Volume 1 (equation 1.5.20).\n",
    " \n",
    "     Parameters\n",
    "     ----------\n",
    " \n",
    "     phi       - The longitude-like angle of the position of the source (radians).\n",
    "     theta     - The latitude-like angle of the position of the source (radians).\n",
    " \n",
    "     Returns\n",
    "     -------\n",
    " \n",
    "     jacobian - The Jacobian matrix corresponding to (phi, theta) and the currently desired coordinate\n",
    "                system transformation.\n",
    "     \n",
    " \n",
    "     p, q, r = normalTriad(phi, theta)\n",
    " \n",
    "     # zRot = z-axis of new coordinate system expressed in terms of old system\n",
    "     zRot = self.rotationMatrix[2,:]\n",
    "     zRotAll = zRot\n",
    "     if (p.ndim == 2):\n",
    "       for i in range(p.shape[1]-1):\n",
    "         zRotAll = vstack((zRotAll,zRot))\n",
    "     pRot = cross(zRotAll, transpose(r))\n",
    "     if (p.ndim == 2):\n",
    "       normPRot = sqrt(diag(dot(pRot,transpose(pRot))))\n",
    "       for i in range(pRot.shape[0]):\n",
    "         pRot[i,:] = pRot[i,:]/normPRot[i]\n",
    "     else:\n",
    "       pRot = pRot/norm(pRot)\n",
    " \n",
    "     if (p.ndim == 2):\n",
    "       return diag(dot(pRot,p)), diag(dot(pRot,q))\n",
    "     else:\n",
    "return dot(pRot,p), dot(pRot,q)\n",
    "\"\"\"\n",
    "\n",
    "#Since the transformation is nested inside the 'CoordinateTransformation' method, it is only available for\n",
    "#changes of coordinates defined in 'Transfromations' object. That is: ICRS<->GAL<->Ecliptic"
   ]
  },
  {
   "cell_type": "code",
   "execution_count": 26,
   "metadata": {
    "scrolled": true
   },
   "outputs": [
    {
     "name": "stdout",
     "output_type": "stream",
     "text": [
      "Help on method transformCovarianceMatrix in module pygaia.astrometry.coordinates:\n",
      "\n",
      "transformCovarianceMatrix(phi, theta, covmat) method of pygaia.astrometry.coordinates.CoordinateTransformation instance\n",
      "    Transform the astrometric covariance matrix to its representation in the new coordinate system.\n",
      "    \n",
      "    Parameters\n",
      "    ----------\n",
      "    \n",
      "    phi       - The longitude-like angle of the position of the source (radians).\n",
      "    theta     - The latitude-like angle of the position of the source (radians).\n",
      "    covmat    - Covariance matrix (5x5) of the astrometric parameters.\n",
      "    \n",
      "    Returns\n",
      "    -------\n",
      "    \n",
      "    covmat_rot - Covariance matrix in its representation in the new coordinate system.\n",
      "\n"
     ]
    }
   ],
   "source": [
    "ICRS2GAL=CoordinateTransformation(Transformations.ICRS2GAL)\n",
    "help(ICRS2GAL.transformCovarianceMatrix)"
   ]
  },
  {
   "cell_type": "code",
   "execution_count": 30,
   "metadata": {},
   "outputs": [],
   "source": [
    "GALcovMatrix=ICRS2GAL.transformCovarianceMatrix(ra,dec,\n",
    "            np.array([[e_ra**2,0,0,0,0],\n",
    "                     [0,e_dec**2,0,0,0],\n",
    "                     [0,0,e_plx**2,0,0],\n",
    "                     [0,0,0,e_pmra**2,0],\n",
    "                     [0,0,0,0,e_pmdec**2]]))"
   ]
  },
  {
   "cell_type": "code",
   "execution_count": 32,
   "metadata": {},
   "outputs": [
    {
     "name": "stdout",
     "output_type": "stream",
     "text": [
      "[[0.01 0.   0.   0.   0.  ]\n",
      " [0.   0.01 0.   0.   0.  ]\n",
      " [0.   0.   0.09 0.   0.  ]\n",
      " [0.   0.   0.   0.49 0.  ]\n",
      " [0.   0.   0.   0.   0.49]]\n"
     ]
    }
   ],
   "source": [
    "print(np.round(np.array([[e_ra**2,0,0,0,0],\n",
    "                     [0,e_dec**2,0,0,0],\n",
    "                     [0,0,e_plx**2,0,0],\n",
    "                     [0,0,0,e_pmra**2,0],\n",
    "                     [0,0,0,0,e_pmdec**2]]),3))"
   ]
  },
  {
   "cell_type": "code",
   "execution_count": 31,
   "metadata": {},
   "outputs": [
    {
     "name": "stdout",
     "output_type": "stream",
     "text": [
      "[[ 0.01 -0.    0.    0.    0.  ]\n",
      " [-0.    0.01  0.    0.    0.  ]\n",
      " [ 0.    0.    0.09  0.    0.  ]\n",
      " [ 0.    0.    0.    0.49 -0.  ]\n",
      " [ 0.    0.    0.    0.    0.49]]\n"
     ]
    }
   ],
   "source": [
    "print(np.round(GALcovMatrix,3))"
   ]
  },
  {
   "cell_type": "code",
   "execution_count": null,
   "metadata": {
    "collapsed": true
   },
   "outputs": [],
   "source": []
  },
  {
   "cell_type": "markdown",
   "metadata": {},
   "source": [
    "## 3) Python Code"
   ]
  },
  {
   "cell_type": "code",
   "execution_count": 6,
   "metadata": {},
   "outputs": [],
   "source": [
    "from jacobian import *"
   ]
  },
  {
   "cell_type": "code",
   "execution_count": 16,
   "metadata": {},
   "outputs": [],
   "source": [
    "\"\"\" Part I: change of coordinates \"\"\"\n",
    "#A: ICRS to Galactic\n",
    "    #position\n",
    "l,b=radec2lb(np.deg2rad(ra),np.deg2rad(dec))\n",
    "tPythonCoord=timeit.timeit(stmt='radec2lb(ra,dec)',\n",
    "                    globals=globals(),number=1000)/1000\n",
    "    #proper motions\n",
    "mul,mub=pmradec2lb(np.deg2rad(ra),np.deg2rad(dec),l,b,pmra,pmdec)\n",
    "tPythonPM=timeit.timeit(stmt='pmradec2lb(np.deg2rad(ra),np.deg2rad(dec),l,b,pmra,pmdec)',\n",
    "                    globals=globals(),number=1000)/1000"
   ]
  },
  {
   "cell_type": "code",
   "execution_count": 17,
   "metadata": {},
   "outputs": [
    {
     "name": "stdout",
     "output_type": "stream",
     "text": [
      "Python Code\n",
      "\tStar at (266.40506655 deg:-28.93616241 deg) in ICRS -> (4.21188529844879e-05 deg:-4.683026494427538e-05 deg) in Gal.Coord.\n",
      "\n",
      "Time: 2.4756303988397122e-05 seconds\n",
      "Python\n",
      "\tStar at (2 mas/yr:3 mas/yr) in ICRS -> (3.6026749221551855 kms/s:-0.14399099025331186 km/s) in Gal.Coord.\n",
      "\n",
      "Time:1.590296404901892e-05 seconds\n"
     ]
    }
   ],
   "source": [
    "print('Python Code\\n\\tStar at ({} deg:{} deg) in ICRS -> ({} deg:{} deg) in Gal.Coord.\\n\\nTime: {} seconds'.format(\n",
    "    ra,dec,np.rad2deg(l),np.rad2deg(b),tPythonCoord))\n",
    "\n",
    "print('Python\\n\\tStar at ({} mas/yr:{} mas/yr) in ICRS -> ({} kms/s:{} km/s) in Gal.Coord.\\n\\nTime:\\\n",
    "{} seconds'.format(\n",
    "    pmra,pmdec,mul,mub,tPythonPM))"
   ]
  },
  {
   "cell_type": "code",
   "execution_count": null,
   "metadata": {},
   "outputs": [],
   "source": []
  },
  {
   "cell_type": "code",
   "execution_count": 10,
   "metadata": {},
   "outputs": [],
   "source": [
    "\"\"\" Part II: error propagation \"\"\"\n",
    "#From ra,dec,plx,pmra,pmdec,vr to l,b,plx,U,V,W\n",
    "J6=Jacob([ra,dec,plx,pmra,pmdec,0])\n",
    "J4=Jacob4([ra,dec,plx,pmra,pmdec,0])\n",
    "Jtan=Jacob4_tan([ra,dec,plx,pmra,pmdec,0])"
   ]
  },
  {
   "cell_type": "code",
   "execution_count": 11,
   "metadata": {},
   "outputs": [
    {
     "name": "stdout",
     "output_type": "stream",
     "text": [
      "[[ 2.21069641e-06  4.13805520e-06  0.00000000e+00  0.00000000e+00\n",
      "   0.00000000e+00  0.00000000e+00]\n",
      " [-3.62145761e-06  2.52605022e-06  0.00000000e+00  0.00000000e+00\n",
      "   0.00000000e+00  0.00000000e+00]\n",
      " [ 0.00000000e+00  0.00000000e+00  1.00000000e+00  0.00000000e+00\n",
      "   0.00000000e+00  0.00000000e+00]\n",
      " [-9.89363359e-06 -1.65307786e-05 -6.63057582e-01  3.83566910e-01\n",
      "   6.28366711e-01  9.59045398e-01]\n",
      " [ 5.86330794e-06  1.07072975e-05 -1.02368217e+00  5.92193311e-01\n",
      "   9.70115882e-01 -6.21191472e-01]\n",
      " [-1.00151765e-05  2.05442570e-10  4.26638766e-02 -1.01154546e+00\n",
      "   6.17478394e-01 -5.56879451e-06]]\n",
      "[[ 1.00000000e+00  0.00000000e+00  0.00000000e+00  0.00000000e+00]\n",
      " [-6.63057582e-01  3.83566910e-01  6.28366711e-01  9.59045398e-01]\n",
      " [-1.02368217e+00  5.92193311e-01  9.70115882e-01 -6.21191472e-01]\n",
      " [ 4.26638766e-02 -1.01154546e+00  6.17478394e-01 -5.56879451e-06]]\n",
      "[[ 1.          0.          0.          0.        ]\n",
      " [-1.06739683  0.61747839  1.01154546  0.        ]\n",
      " [ 0.04266388 -1.01154546  0.61747839  0.        ]\n",
      " [ 0.          0.          0.          1.        ]]\n"
     ]
    }
   ],
   "source": [
    "print(J6)\n",
    "print(J4)\n",
    "print(Jtan)"
   ]
  },
  {
   "cell_type": "code",
   "execution_count": 12,
   "metadata": {},
   "outputs": [],
   "source": [
    "tJ6=timeit.timeit(stmt='Jacob([ra,dec,plx,pmra,pmdec,0])',\n",
    "                    globals=globals(),number=1000)/1000\n",
    "tJ4=timeit.timeit(stmt='Jacob4([ra,dec,plx,pmra,pmdec,0])',\n",
    "                    globals=globals(),number=1000)/1000\n",
    "tJtan=timeit.timeit(stmt='Jacob4_tan([ra,dec,plx,pmra,pmdec,0])',\n",
    "                    globals=globals(),number=1000)/1000"
   ]
  },
  {
   "cell_type": "code",
   "execution_count": 13,
   "metadata": {},
   "outputs": [
    {
     "name": "stdout",
     "output_type": "stream",
     "text": [
      "Time [s]:  0.0003401771089993417 / 0.0001716109429980861 / 7.857472701289225e-05\n"
     ]
    }
   ],
   "source": [
    "print('Time [s]: ',tJ6,'/',tJ4,'/',tJtan)"
   ]
  },
  {
   "cell_type": "code",
   "execution_count": 14,
   "metadata": {},
   "outputs": [
    {
     "name": "stdout",
     "output_type": "stream",
     "text": [
      "Time to process Error Propagation:  0.0001716109429980861\n",
      "\n",
      "Original Covariance Matrix: \n",
      "[[0.09  0.105 0.105 0.   ]\n",
      " [0.105 0.49  0.245 0.   ]\n",
      " [0.105 0.245 0.49  0.   ]\n",
      " [0.    0.    0.    0.   ]]\n",
      "\n",
      "Propagated Covariance Matrix in plxUVW: \n",
      "[[ 0.09  0.05  0.07 -0.04]\n",
      " [ 0.05  0.28  0.44 -0.07]\n",
      " [ 0.07  0.44  0.67 -0.11]\n",
      " [-0.04 -0.07 -0.11  0.38]]\n"
     ]
    }
   ],
   "source": [
    "print('Time to process Error Propagation: ',tJ4)\n",
    "print('\\nOriginal Covariance Matrix: ')\n",
    "cov=np.diag([e_plx,e_pmra,e_pmdec,e_vr])**2+\\\n",
    "        np.array([[0,c_plx_pmra*e_plx*e_pmra,c_plx_pmdec*e_plx*e_pmdec,0],\n",
    "                     [c_plx_pmra*e_plx*e_pmra,0,c_pmra_pmdec*e_pmra*e_pmdec,0],\n",
    "                     [c_plx_pmdec*e_plx*e_pmdec,c_pmra_pmdec*e_pmra*e_pmdec,0,0],\n",
    "                     [0,0,0,0]])\n",
    "print(cov)\n",
    "print('\\nPropagated Covariance Matrix in plxUVW: ')\n",
    "new_cov=J4@cov@J4.T\n",
    "print(np.round(new_cov,2))"
   ]
  },
  {
   "cell_type": "code",
   "execution_count": 15,
   "metadata": {},
   "outputs": [
    {
     "name": "stdout",
     "output_type": "stream",
     "text": [
      "Time to process Error Propagation:  7.857472701289225e-05\n",
      "\n",
      "Original Covariance Matrix: \n",
      "[[0.09  0.105 0.105 0.   ]\n",
      " [0.105 0.49  0.245 0.   ]\n",
      " [0.105 0.245 0.49  0.   ]\n",
      " [0.    0.    0.    0.   ]]\n",
      "\n",
      "Propagated Covariance Matrix in plx-vl-vb-vlos: \n",
      "[[ 0.09  0.07 -0.04  0.  ]\n",
      " [ 0.07  0.73 -0.11  0.  ]\n",
      " [-0.04 -0.11  0.38  0.  ]\n",
      " [ 0.    0.    0.    0.  ]]\n"
     ]
    }
   ],
   "source": [
    "print('Time to process Error Propagation: ',tJtan)\n",
    "print('\\nOriginal Covariance Matrix: ')\n",
    "cov=np.diag([e_plx,e_pmra,e_pmdec,e_vr])**2+\\\n",
    "        np.array([[0,c_plx_pmra*e_plx*e_pmra,c_plx_pmdec*e_plx*e_pmdec,0],\n",
    "                     [c_plx_pmra*e_plx*e_pmra,0,c_pmra_pmdec*e_pmra*e_pmdec,0],\n",
    "                     [c_plx_pmdec*e_plx*e_pmdec,c_pmra_pmdec*e_pmra*e_pmdec,0,0],\n",
    "                     [0,0,0,0]])\n",
    "print(cov)\n",
    "print('\\nPropagated Covariance Matrix in plx-vl-vb-vlos: ')\n",
    "new_cov=Jtan@cov@Jtan.T\n",
    "print(np.round(new_cov,2))"
   ]
  },
  {
   "cell_type": "code",
   "execution_count": null,
   "metadata": {},
   "outputs": [],
   "source": []
  },
  {
   "cell_type": "code",
   "execution_count": null,
   "metadata": {},
   "outputs": [],
   "source": []
  },
  {
   "cell_type": "code",
   "execution_count": null,
   "metadata": {},
   "outputs": [],
   "source": []
  },
  {
   "cell_type": "code",
   "execution_count": null,
   "metadata": {},
   "outputs": [],
   "source": []
  },
  {
   "cell_type": "code",
   "execution_count": null,
   "metadata": {},
   "outputs": [],
   "source": []
  },
  {
   "cell_type": "code",
   "execution_count": null,
   "metadata": {},
   "outputs": [],
   "source": []
  },
  {
   "cell_type": "code",
   "execution_count": null,
   "metadata": {},
   "outputs": [],
   "source": []
  },
  {
   "cell_type": "code",
   "execution_count": null,
   "metadata": {},
   "outputs": [],
   "source": []
  },
  {
   "cell_type": "code",
   "execution_count": null,
   "metadata": {},
   "outputs": [],
   "source": []
  },
  {
   "cell_type": "markdown",
   "metadata": {},
   "source": [
    "## Check results for varius positions"
   ]
  },
  {
   "cell_type": "code",
   "execution_count": 10,
   "metadata": {},
   "outputs": [],
   "source": [
    "\"\"\" Test star coordinates & errors \"\"\"\n",
    "import gala.coordinates as gc\n",
    "c_gal = SkyCoord(l=np.random.uniform(0,360,100)*u.degree,\n",
    "                b=np.random.uniform(-90,90,100)*u.degree,\n",
    "                distance=np.random.uniform(0.1,1,100)*u.kpc,\n",
    "                pm_l_cosb=np.random.uniform(-5,5,100)*u.mas/u.yr,\n",
    "                pm_b=np.random.uniform(-5,5,100)*u.mas/u.yr,\n",
    "                radial_velocity=np.zeros(100)*u.km/u.s,\n",
    "                frame=Galactic)\n",
    "c = c_gal.transform_to(ICRS)\n",
    "\n",
    "    #J2000\n",
    "    \n",
    "def generate_star(index):\n",
    "    aux = c[index]\n",
    "    \n",
    "    ra=aux.ra.value #right ascention in degrees\n",
    "    dec=aux.dec.value #declination in degrees\n",
    "    plx=1/aux.distance.value #parallax in mas\n",
    "    pmra=aux.pm_ra_cosdec.value #proper motion in alpha* in mas/yr\n",
    "    pmdec=aux.pm_dec.value #proper motion in delta in mas/yr\n",
    "    vr=aux.radial_velocity.value #radial velocity in km/s\n",
    "\n",
    "    e_ra=0.1 #error in RA in mas\n",
    "    e_dec=0.1 #error in DEC in mas\n",
    "    e_plx=0.3 #error in plx in mas\n",
    "    e_pmra=0.7 #error in PMRA in mas/yr\n",
    "    e_pmdec=0.7 #error in PMDEC in mas/yr\n",
    "    e_vr=0 #error in Vr in km/s\n",
    "\n",
    "    c_plx_pmra = 0.5\n",
    "    c_plx_pmdec= 0.5\n",
    "    c_pmra_pmdec=0.5\n",
    "    \n",
    "    cov = np.diag([e_ra,e_dec,e_plx,e_pmra,e_pmdec,e_vr])**2+\\\n",
    "            np.array([[0,0,0,0,0,0],\n",
    "                     [0,0,0,0,0,0],\n",
    "                     [0,0,0,c_plx_pmra*e_plx*e_pmra,c_plx_pmdec*e_plx*e_pmdec,0],\n",
    "                     [0,0,c_plx_pmra*e_plx*e_pmra,0,c_pmra_pmdec*e_pmra*e_pmdec,0],\n",
    "                     [0,0,c_plx_pmdec*e_plx*e_pmdec,c_pmra_pmdec*e_pmra*e_pmdec,0,0],\n",
    "                     [0,0,0,0,0,0]])\n",
    "    \n",
    "    return (ra,dec,plx,pmra,pmdec,vr),cov"
   ]
  },
  {
   "cell_type": "code",
   "execution_count": 11,
   "metadata": {},
   "outputs": [
    {
     "data": {
      "text/plain": [
       "((31.22517037342537,\n",
       "  -24.209123135308744,\n",
       "  2.9730006972441685,\n",
       "  0.9194638555035235,\n",
       "  1.6114197097410208,\n",
       "  1.3157448640322444e-16),\n",
       " array([[0.01 , 0.   , 0.   , 0.   , 0.   , 0.   ],\n",
       "        [0.   , 0.01 , 0.   , 0.   , 0.   , 0.   ],\n",
       "        [0.   , 0.   , 0.09 , 0.105, 0.105, 0.   ],\n",
       "        [0.   , 0.   , 0.105, 0.49 , 0.245, 0.   ],\n",
       "        [0.   , 0.   , 0.105, 0.245, 0.49 , 0.   ],\n",
       "        [0.   , 0.   , 0.   , 0.   , 0.   , 0.   ]]))"
      ]
     },
     "execution_count": 11,
     "metadata": {},
     "output_type": "execute_result"
    }
   ],
   "source": [
    "generate_star(0)"
   ]
  },
  {
   "cell_type": "code",
   "execution_count": 12,
   "metadata": {},
   "outputs": [
    {
     "name": "stdout",
     "output_type": "stream",
     "text": [
      "[[0.01  0.    0.    0.    0.    0.   ]\n",
      " [0.    0.01  0.    0.    0.    0.   ]\n",
      " [0.    0.    0.09  0.105 0.105 0.   ]\n",
      " [0.    0.    0.105 0.49  0.245 0.   ]\n",
      " [0.    0.    0.105 0.245 0.49  0.   ]\n",
      " [0.    0.    0.    0.    0.    0.   ]]\n",
      "[[0.331 0.187]\n",
      " [0.187 0.649]]\n"
     ]
    }
   ],
   "source": [
    "#check with GALA\n",
    "import gala.coordinates as gc\n",
    "ind=8\n",
    "astrometry,cov=generate_star(ind)\n",
    "cov_red=cov[3:5,3:5]\n",
    "cov_gal = gc.transform_pm_cov(c[ind],cov_red,Galactic)\n",
    "print(cov)\n",
    "print(np.round(cov_gal,3))"
   ]
  },
  {
   "cell_type": "code",
   "execution_count": 13,
   "metadata": {},
   "outputs": [
    {
     "data": {
      "text/plain": [
       "<SkyCoord (ICRS): (ra, dec, distance) in (deg, deg, kpc)\n",
       "    (172.62306819, -32.90522666, 0.72425916)\n",
       " (pm_ra_cosdec, pm_dec, radial_velocity) in (mas / yr, mas / yr, km / s)\n",
       "    (0.20331944, 1.52890016, 5.26297946e-16)>"
      ]
     },
     "execution_count": 13,
     "metadata": {},
     "output_type": "execute_result"
    }
   ],
   "source": [
    "c[ind]"
   ]
  },
  {
   "cell_type": "code",
   "execution_count": 14,
   "metadata": {},
   "outputs": [
    {
     "data": {
      "text/plain": [
       "(172.62306819457066,\n",
       " -32.905226658068706,\n",
       " 1.3807212271227158,\n",
       " 0.20331943975472105,\n",
       " 1.5289001550715735,\n",
       " 5.262979456128978e-16)"
      ]
     },
     "execution_count": 14,
     "metadata": {},
     "output_type": "execute_result"
    }
   ],
   "source": [
    "astrometry"
   ]
  },
  {
   "cell_type": "code",
   "execution_count": 15,
   "metadata": {},
   "outputs": [],
   "source": [
    "Jtan,aux=Jacob4_tan(astrometry,_all=True)\n",
    "cov_tan = Jtan@cov[2:,2:]@Jtan.T"
   ]
  },
  {
   "cell_type": "code",
   "execution_count": 16,
   "metadata": {},
   "outputs": [
    {
     "data": {
      "text/plain": [
       "array([[ 1.        ,  0.        ,  0.        ,  0.        ],\n",
       "       [ 0.83858526,  3.2220559 , -1.18579298,  0.        ],\n",
       "       [-3.74246185,  1.18579298,  3.2220559 ,  0.        ],\n",
       "       [ 0.        ,  0.        ,  0.        ,  1.        ]])"
      ]
     },
     "execution_count": 16,
     "metadata": {},
     "output_type": "execute_result"
    }
   ],
   "source": [
    "Jtan"
   ]
  },
  {
   "cell_type": "code",
   "execution_count": 17,
   "metadata": {},
   "outputs": [
    {
     "name": "stdout",
     "output_type": "stream",
     "text": [
      "[[0.09  0.289 0.126 0.   ]\n",
      " [0.289 4.326 1.505 0.   ]\n",
      " [0.126 1.505 5.444 0.   ]\n",
      " [0.    0.    0.    0.   ]]\n"
     ]
    }
   ],
   "source": [
    "print(np.round(cov_tan,3))"
   ]
  },
  {
   "cell_type": "code",
   "execution_count": 18,
   "metadata": {},
   "outputs": [
    {
     "data": {
      "text/plain": [
       "(283.9171778151009,\n",
       " 26.960191170514936,\n",
       " -0.3372389915139319,\n",
       " 1.5050396477710215)"
      ]
     },
     "execution_count": 18,
     "metadata": {},
     "output_type": "execute_result"
    }
   ],
   "source": [
    "aux"
   ]
  },
  {
   "cell_type": "code",
   "execution_count": 19,
   "metadata": {},
   "outputs": [
    {
     "data": {
      "text/plain": [
       "<SkyCoord (Galactic): (l, b, distance) in (deg, deg, kpc)\n",
       "    (283.91718622, 26.96018979, 0.72425916)\n",
       " (pm_l_cosb, pm_b, radial_velocity) in (mas / yr, mas / yr, km / s)\n",
       "    (-0.33723889, 1.50503967, 0.)>"
      ]
     },
     "execution_count": 19,
     "metadata": {},
     "output_type": "execute_result"
    }
   ],
   "source": [
    "c_gal[ind]"
   ]
  },
  {
   "cell_type": "code",
   "execution_count": null,
   "metadata": {},
   "outputs": [],
   "source": []
  },
  {
   "cell_type": "code",
   "execution_count": null,
   "metadata": {},
   "outputs": [],
   "source": []
  },
  {
   "cell_type": "code",
   "execution_count": 7,
   "metadata": {},
   "outputs": [],
   "source": [
    "\"\"\" Check against PyGaia \"\"\"\n",
    "import pandas as pd\n",
    "import matplotlib.pyplot as plt\n",
    "\n",
    "comparison = []\n",
    "\n",
    "for ind in range(1000):\n",
    "    l=np.random.uniform(0,360)\n",
    "    b=np.random.uniform(-90,90)\n",
    "    mul=np.random.uniform(-5,5)\n",
    "    mub=np.random.uniform(-5,5)\n",
    "    c_gal = SkyCoord(l=l*u.degree,\n",
    "                b=b*u.degree,\n",
    "                distance=np.random.uniform(0.1,1)*u.kpc,\n",
    "                pm_l_cosb=mul*u.mas/u.yr,\n",
    "                pm_b=mub*u.mas/u.yr,\n",
    "                radial_velocity=0*u.km/u.s,\n",
    "                frame=Galactic)\n",
    "    c = c_gal.transform_to(ICRS)\n",
    "    ra=c.ra.value #right ascention in degrees\n",
    "    dec=c.dec.value #declination in degrees\n",
    "    plx=1/c.distance.value #parallax in mas\n",
    "    pmra=c.pm_ra_cosdec.value #proper motion in alpha* in mas/yr\n",
    "    pmdec=c.pm_dec.value #proper motion in delta in mas/yr\n",
    "    vr=c.radial_velocity.value #radial velocity in km/s\n",
    "\n",
    "    l_pg,b_pg=ICRS2GAL.transformSkyCoordinates(np.deg2rad(ra),np.deg2rad(dec))\n",
    "    mul_pg,mub_pg=ICRS2GAL.transformProperMotions(np.deg2rad(ra),np.deg2rad(dec),\n",
    "                                                  pmra,pmdec)\n",
    "\n",
    "    #J,gal_coord = Jacob([ra,dec,plx,pmra,pmdec,vr],_all=True)\n",
    "    #J,gal_coord = Jacob4([ra,dec,plx,pmra,pmdec,vr],_all=True)\n",
    "    J,gal_coord = Jacob4_tan([ra,dec,plx,pmra,pmdec,vr],_all=True)\n",
    "    l_j,b_j,mul_j,mub_j = gal_coord\n",
    "    \n",
    "    comparison.append([np.deg2rad(l),np.deg2rad(b),mul,mub,\n",
    "                       l_pg,b_pg,mul_pg,mub_pg,l_j,b_j,mul_j,mub_j])\n",
    "    \n",
    "comparison = pd.DataFrame(np.array(comparison),columns=['l','b','pml','pmb',\n",
    "                               'l_pygaia','b_pygaia','pml_pygaia','pmb_pygaia',\n",
    "                               'l_jacob','b_jacob','pml_jacob','pmb_jacob'])\n"
   ]
  },
  {
   "cell_type": "code",
   "execution_count": 8,
   "metadata": {},
   "outputs": [
    {
     "data": {
      "text/html": [
       "<div>\n",
       "<style scoped>\n",
       "    .dataframe tbody tr th:only-of-type {\n",
       "        vertical-align: middle;\n",
       "    }\n",
       "\n",
       "    .dataframe tbody tr th {\n",
       "        vertical-align: top;\n",
       "    }\n",
       "\n",
       "    .dataframe thead th {\n",
       "        text-align: right;\n",
       "    }\n",
       "</style>\n",
       "<table border=\"1\" class=\"dataframe\">\n",
       "  <thead>\n",
       "    <tr style=\"text-align: right;\">\n",
       "      <th></th>\n",
       "      <th>l</th>\n",
       "      <th>b</th>\n",
       "      <th>pml</th>\n",
       "      <th>pmb</th>\n",
       "      <th>l_pygaia</th>\n",
       "      <th>b_pygaia</th>\n",
       "      <th>pml_pygaia</th>\n",
       "      <th>pmb_pygaia</th>\n",
       "      <th>l_jacob</th>\n",
       "      <th>b_jacob</th>\n",
       "      <th>pml_jacob</th>\n",
       "      <th>pmb_jacob</th>\n",
       "    </tr>\n",
       "  </thead>\n",
       "  <tbody>\n",
       "    <tr>\n",
       "      <th>0</th>\n",
       "      <td>5.626106</td>\n",
       "      <td>1.367884</td>\n",
       "      <td>-3.894947</td>\n",
       "      <td>-1.867889</td>\n",
       "      <td>5.626105</td>\n",
       "      <td>1.367884</td>\n",
       "      <td>-3.894947</td>\n",
       "      <td>-1.867889</td>\n",
       "      <td>5.626105</td>\n",
       "      <td>1.367884</td>\n",
       "      <td>-3.894947</td>\n",
       "      <td>-1.867889</td>\n",
       "    </tr>\n",
       "    <tr>\n",
       "      <th>1</th>\n",
       "      <td>4.462868</td>\n",
       "      <td>0.747575</td>\n",
       "      <td>-1.969298</td>\n",
       "      <td>-4.615990</td>\n",
       "      <td>4.462867</td>\n",
       "      <td>0.747575</td>\n",
       "      <td>-1.969298</td>\n",
       "      <td>-4.615990</td>\n",
       "      <td>4.462867</td>\n",
       "      <td>0.747575</td>\n",
       "      <td>-1.969298</td>\n",
       "      <td>-4.615990</td>\n",
       "    </tr>\n",
       "    <tr>\n",
       "      <th>2</th>\n",
       "      <td>5.203842</td>\n",
       "      <td>0.424322</td>\n",
       "      <td>4.416935</td>\n",
       "      <td>-4.198207</td>\n",
       "      <td>5.203842</td>\n",
       "      <td>0.424322</td>\n",
       "      <td>4.416935</td>\n",
       "      <td>-4.198207</td>\n",
       "      <td>5.203842</td>\n",
       "      <td>0.424322</td>\n",
       "      <td>4.416935</td>\n",
       "      <td>-4.198207</td>\n",
       "    </tr>\n",
       "    <tr>\n",
       "      <th>3</th>\n",
       "      <td>5.892669</td>\n",
       "      <td>-1.156332</td>\n",
       "      <td>-3.589448</td>\n",
       "      <td>1.102898</td>\n",
       "      <td>5.892669</td>\n",
       "      <td>-1.156332</td>\n",
       "      <td>-3.589448</td>\n",
       "      <td>1.102898</td>\n",
       "      <td>5.892669</td>\n",
       "      <td>-1.156332</td>\n",
       "      <td>-3.589448</td>\n",
       "      <td>1.102898</td>\n",
       "    </tr>\n",
       "    <tr>\n",
       "      <th>4</th>\n",
       "      <td>4.896558</td>\n",
       "      <td>-0.884248</td>\n",
       "      <td>-1.809947</td>\n",
       "      <td>-3.920644</td>\n",
       "      <td>4.896558</td>\n",
       "      <td>-0.884248</td>\n",
       "      <td>-1.809947</td>\n",
       "      <td>-3.920644</td>\n",
       "      <td>4.896558</td>\n",
       "      <td>-0.884248</td>\n",
       "      <td>-1.809946</td>\n",
       "      <td>-3.920644</td>\n",
       "    </tr>\n",
       "    <tr>\n",
       "      <th>...</th>\n",
       "      <td>...</td>\n",
       "      <td>...</td>\n",
       "      <td>...</td>\n",
       "      <td>...</td>\n",
       "      <td>...</td>\n",
       "      <td>...</td>\n",
       "      <td>...</td>\n",
       "      <td>...</td>\n",
       "      <td>...</td>\n",
       "      <td>...</td>\n",
       "      <td>...</td>\n",
       "      <td>...</td>\n",
       "    </tr>\n",
       "    <tr>\n",
       "      <th>995</th>\n",
       "      <td>4.284751</td>\n",
       "      <td>-0.360463</td>\n",
       "      <td>0.247696</td>\n",
       "      <td>1.194652</td>\n",
       "      <td>4.284751</td>\n",
       "      <td>-0.360463</td>\n",
       "      <td>0.247695</td>\n",
       "      <td>1.194652</td>\n",
       "      <td>4.284751</td>\n",
       "      <td>-0.360463</td>\n",
       "      <td>0.247695</td>\n",
       "      <td>1.194652</td>\n",
       "    </tr>\n",
       "    <tr>\n",
       "      <th>996</th>\n",
       "      <td>6.214931</td>\n",
       "      <td>-0.178691</td>\n",
       "      <td>-0.018549</td>\n",
       "      <td>1.365445</td>\n",
       "      <td>6.214931</td>\n",
       "      <td>-0.178691</td>\n",
       "      <td>-0.018549</td>\n",
       "      <td>1.365445</td>\n",
       "      <td>6.214931</td>\n",
       "      <td>-0.178691</td>\n",
       "      <td>-0.018549</td>\n",
       "      <td>1.365445</td>\n",
       "    </tr>\n",
       "    <tr>\n",
       "      <th>997</th>\n",
       "      <td>2.771555</td>\n",
       "      <td>0.988854</td>\n",
       "      <td>0.505663</td>\n",
       "      <td>2.646740</td>\n",
       "      <td>2.771554</td>\n",
       "      <td>0.988854</td>\n",
       "      <td>0.505663</td>\n",
       "      <td>2.646740</td>\n",
       "      <td>2.771554</td>\n",
       "      <td>0.988854</td>\n",
       "      <td>0.505664</td>\n",
       "      <td>2.646740</td>\n",
       "    </tr>\n",
       "    <tr>\n",
       "      <th>998</th>\n",
       "      <td>5.311876</td>\n",
       "      <td>0.940313</td>\n",
       "      <td>-3.463181</td>\n",
       "      <td>-2.642359</td>\n",
       "      <td>5.311876</td>\n",
       "      <td>0.940313</td>\n",
       "      <td>-3.463181</td>\n",
       "      <td>-2.642359</td>\n",
       "      <td>5.311876</td>\n",
       "      <td>0.940313</td>\n",
       "      <td>-3.463181</td>\n",
       "      <td>-2.642360</td>\n",
       "    </tr>\n",
       "    <tr>\n",
       "      <th>999</th>\n",
       "      <td>6.048896</td>\n",
       "      <td>1.469133</td>\n",
       "      <td>-3.439482</td>\n",
       "      <td>2.003135</td>\n",
       "      <td>6.048896</td>\n",
       "      <td>1.469133</td>\n",
       "      <td>-3.439482</td>\n",
       "      <td>2.003135</td>\n",
       "      <td>6.048896</td>\n",
       "      <td>1.469133</td>\n",
       "      <td>-3.439482</td>\n",
       "      <td>2.003134</td>\n",
       "    </tr>\n",
       "  </tbody>\n",
       "</table>\n",
       "<p>1000 rows × 12 columns</p>\n",
       "</div>"
      ],
      "text/plain": [
       "            l         b       pml       pmb  l_pygaia  b_pygaia  pml_pygaia  \\\n",
       "0    5.626106  1.367884 -3.894947 -1.867889  5.626105  1.367884   -3.894947   \n",
       "1    4.462868  0.747575 -1.969298 -4.615990  4.462867  0.747575   -1.969298   \n",
       "2    5.203842  0.424322  4.416935 -4.198207  5.203842  0.424322    4.416935   \n",
       "3    5.892669 -1.156332 -3.589448  1.102898  5.892669 -1.156332   -3.589448   \n",
       "4    4.896558 -0.884248 -1.809947 -3.920644  4.896558 -0.884248   -1.809947   \n",
       "..        ...       ...       ...       ...       ...       ...         ...   \n",
       "995  4.284751 -0.360463  0.247696  1.194652  4.284751 -0.360463    0.247695   \n",
       "996  6.214931 -0.178691 -0.018549  1.365445  6.214931 -0.178691   -0.018549   \n",
       "997  2.771555  0.988854  0.505663  2.646740  2.771554  0.988854    0.505663   \n",
       "998  5.311876  0.940313 -3.463181 -2.642359  5.311876  0.940313   -3.463181   \n",
       "999  6.048896  1.469133 -3.439482  2.003135  6.048896  1.469133   -3.439482   \n",
       "\n",
       "     pmb_pygaia   l_jacob   b_jacob  pml_jacob  pmb_jacob  \n",
       "0     -1.867889  5.626105  1.367884  -3.894947  -1.867889  \n",
       "1     -4.615990  4.462867  0.747575  -1.969298  -4.615990  \n",
       "2     -4.198207  5.203842  0.424322   4.416935  -4.198207  \n",
       "3      1.102898  5.892669 -1.156332  -3.589448   1.102898  \n",
       "4     -3.920644  4.896558 -0.884248  -1.809946  -3.920644  \n",
       "..          ...       ...       ...        ...        ...  \n",
       "995    1.194652  4.284751 -0.360463   0.247695   1.194652  \n",
       "996    1.365445  6.214931 -0.178691  -0.018549   1.365445  \n",
       "997    2.646740  2.771554  0.988854   0.505664   2.646740  \n",
       "998   -2.642359  5.311876  0.940313  -3.463181  -2.642360  \n",
       "999    2.003135  6.048896  1.469133  -3.439482   2.003134  \n",
       "\n",
       "[1000 rows x 12 columns]"
      ]
     },
     "execution_count": 8,
     "metadata": {},
     "output_type": "execute_result"
    }
   ],
   "source": [
    "comparison"
   ]
  },
  {
   "cell_type": "code",
   "execution_count": 9,
   "metadata": {},
   "outputs": [],
   "source": [
    "comparison['l_diff_pygaia'] = comparison['l']-comparison['l_pygaia']\n",
    "comparison['b_diff_pygaia'] = comparison['b']-comparison['b_pygaia']\n",
    "comparison['pml_diff_pygaia'] = comparison['pml']-comparison['pml_pygaia']\n",
    "comparison['pmb_diff_pygaia'] = comparison['pmb']-comparison['pmb_pygaia']\n",
    "\n",
    "comparison['l_diff_jacob'] = comparison['l']-comparison['l_jacob']\n",
    "comparison['b_diff_jacob'] = comparison['b']-comparison['b_jacob']\n",
    "comparison['pml_diff_jacob'] = comparison['pml']-comparison['pml_jacob']\n",
    "comparison['pmb_diff_jacob'] = comparison['pmb']-comparison['pmb_jacob']"
   ]
  },
  {
   "cell_type": "code",
   "execution_count": 10,
   "metadata": {},
   "outputs": [
    {
     "name": "stdout",
     "output_type": "stream",
     "text": [
      "Mean differences with respect to the true values\n",
      "1) PyGaia\n",
      "\t$\\Delta$l [rad] = 1.8413210844268228e-07$\\pm$1.452945276939131e-06\n",
      "\t$\\Delta$b [rad] = 2.6971358807340377e-10$\\pm$3.811979848912814e-08\n",
      "\t$\\Delta$pml [mas/yr] = -4.6029129691097655e-08$\\pm$2.1939788567396364e-06\n",
      "\t$\\Delta$pmb [mas/yr] = -6.819195967881775e-08$\\pm$5.132075635218349e-06\n",
      "2) Jacobian routine\n",
      "\t$\\Delta$l [rad] = 2.0994644879737853e-07$\\pm$1.709636663942613e-06\n",
      "\t$\\Delta$b [rad] = -5.1834335500471754e-11$\\pm$4.571002346699276e-08\n",
      "\t$\\Delta$pml [mas/yr] = -5.968662105634848e-08$\\pm$2.638622367522447e-06\n",
      "\t$\\Delta$pmb [mas/yr] = -8.553185340739317e-08$\\pm$6.025471393379217e-06\n"
     ]
    }
   ],
   "source": [
    "print('Mean differences with respect to the true values')\n",
    "print('1) PyGaia')\n",
    "print('\\t'+r'$\\Delta$l [rad] = ' +\\\n",
    "     '{}'.format(comparison.mean()['l_diff_pygaia'])+r'$\\pm$'+\\\n",
    "      '{}'.format(comparison.std()['l_diff_pygaia']))\n",
    "print('\\t'+r'$\\Delta$b [rad] = ' +\\\n",
    "     '{}'.format(comparison.mean()['b_diff_pygaia'])+r'$\\pm$'+\\\n",
    "      '{}'.format(comparison.std()['b_diff_pygaia']))\n",
    "print('\\t'+r'$\\Delta$pml [mas/yr] = ' +\\\n",
    "     '{}'.format(comparison.mean()['pml_diff_pygaia'])+r'$\\pm$'+\\\n",
    "      '{}'.format(comparison.std()['pml_diff_pygaia']))\n",
    "print('\\t'+r'$\\Delta$pmb [mas/yr] = ' +\\\n",
    "     '{}'.format(comparison.mean()['pmb_diff_pygaia'])+r'$\\pm$'+\\\n",
    "      '{}'.format(comparison.std()['pmb_diff_pygaia']))\n",
    "\n",
    "print('2) Jacobian routine')\n",
    "print('\\t'+r'$\\Delta$l [rad] = ' +\\\n",
    "     '{}'.format(comparison.mean()['l_diff_jacob'])+r'$\\pm$'+\\\n",
    "      '{}'.format(comparison.std()['l_diff_jacob']))\n",
    "print('\\t'+r'$\\Delta$b [rad] = ' +\\\n",
    "     '{}'.format(comparison.mean()['b_diff_jacob'])+r'$\\pm$'+\\\n",
    "      '{}'.format(comparison.std()['b_diff_jacob']))\n",
    "print('\\t'+r'$\\Delta$pml [mas/yr] = ' +\\\n",
    "     '{}'.format(comparison.mean()['pml_diff_jacob'])+r'$\\pm$'+\\\n",
    "      '{}'.format(comparison.std()['pml_diff_jacob']))\n",
    "print('\\t'+r'$\\Delta$pmb [mas/yr] = ' +\\\n",
    "     '{}'.format(comparison.mean()['pmb_diff_jacob'])+r'$\\pm$'+\\\n",
    "      '{}'.format(comparison.std()['pmb_diff_jacob']))"
   ]
  },
  {
   "cell_type": "code",
   "execution_count": 12,
   "metadata": {},
   "outputs": [
    {
     "data": {
      "image/png": "[encoded data removed]",
      "text/plain": [
       "<Figure size 432x288 with 1 Axes>"
      ]
     },
     "metadata": {
      "needs_background": "light"
     },
     "output_type": "display_data"
    }
   ],
   "source": [
    "plt.scatter(comparison.l_pygaia,comparison.l_pygaia-comparison.l_jacob)\n",
    "plt.grid()\n",
    "plt.ylim(-1e-5,1e-5);\n",
    "plt.xlabel('Gal. longitude [rad]')\n",
    "plt.ylabel(r'$\\Delta$ l [rad]')\n",
    "plt.title('PyGaia - Jacobian routine');"
   ]
  },
  {
   "cell_type": "code",
   "execution_count": null,
   "metadata": {},
   "outputs": [],
   "source": []
  }
 ],
 "metadata": {
  "kernelspec": {
   "display_name": "Python 3",
   "language": "python",
   "name": "python3"
  },
  "language_info": {
   "codemirror_mode": {
    "name": "ipython",
    "version": 3
   },
   "file_extension": ".py",
   "mimetype": "text/x-python",
   "name": "python",
   "nbconvert_exporter": "python",
   "pygments_lexer": "ipython3",
   "version": "3.6.9"
  }
 },
 "nbformat": 4,
 "nbformat_minor": 2
}
